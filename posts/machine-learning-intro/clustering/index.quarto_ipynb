{
  "cells": [
    {
      "cell_type": "markdown",
      "metadata": {},
      "source": [
        "---\n",
        "title: 'Clustering'\n",
        "date: '2023-09-30'\n",
        "categories: ['code']\n",
        "description: 'Unraveling Patterns with Clustering in Machine Learning'\n",
        "execute: \n",
        "  message: false\n",
        "  warning: false\n",
        "editor_options: \n",
        "  chunk_output_type: console\n",
        "---\n",
        "\n",
        "\n",
        "## Introduction\n",
        "\n",
        "Clustering, a fundamental technique in machine learning, is the process of grouping similar data points together. Its applications are diverse, ranging from customer segmentation in marketing to anomaly detection in cybersecurity. By identifying patterns within datasets, clustering enables us to gain valuable insights and make informed decisions.\n",
        "\n",
        "### **Types of Clustering Algorithms**\n",
        "\n",
        "Clustering algorithms come in various flavors, each with its unique approach to grouping data:\n",
        "\n",
        "-   **K-Means:** Divides data into k clusters, where each cluster is represented by its centroid.\n",
        "\n",
        "-   **Hierarchical Clustering:** Forms a tree of clusters, allowing for hierarchical organization.\n",
        "\n",
        "-   **DBSCAN (Density-Based Spatial Clustering of Applications with Noise):** A density-based algorithm that identifies clusters based on the density of data points.\n",
        "\n",
        "DBSCAN stands out for its ability to discover clusters of arbitrary shapes. The algorithm works by identifying core points, which are densely packed, and expanding clusters by connecting core points. It also identifies noise points that do not belong to any cluster.\n",
        "\n",
        "## **Data Visualization**\n",
        "\n",
        "Let's demonstrate the power of DBSCAN using Python and scikit-learn. We'll start by generating a synthetic dataset:\n"
      ],
      "id": "4b51699d"
    },
    {
      "cell_type": "code",
      "metadata": {},
      "source": [
        "import numpy as np\n",
        "from sklearn.cluster import DBSCAN\n",
        "from sklearn.datasets import make_blobs\n",
        "\n",
        "# Generate a synthetic dataset\n",
        "X, _ = make_blobs(n_samples=300, centers=4, cluster_std=0.60, random_state=0)\n",
        "\n",
        "# Apply DBSCAN\n",
        "dbscan = DBSCAN(eps=0.3, min_samples=5)\n",
        "labels = dbscan.fit_predict(X)"
      ],
      "id": "acce0e1f",
      "execution_count": null,
      "outputs": []
    },
    {
      "cell_type": "markdown",
      "metadata": {},
      "source": [
        "I use the following colors in all of my blogs data visualizations\n"
      ],
      "id": "07b80299"
    },
    {
      "cell_type": "code",
      "metadata": {},
      "source": [
        "# Define specific colors (same as CSS from quarto vapor theme)\n",
        "background = '#1b133a'\n",
        "pink = '#ea39b8'\n",
        "purple = '#6f42c1'\n",
        "blue = '#32fbe2'"
      ],
      "id": "2763dbc4",
      "execution_count": null,
      "outputs": []
    },
    {
      "cell_type": "markdown",
      "metadata": {},
      "source": [
        "Visualizing the results of clustering is crucial for understanding the underlying structure of the data. Let's create a scatter plot that represents the original data points with cluster labels:\n"
      ],
      "id": "b43a932d"
    },
    {
      "cell_type": "code",
      "metadata": {},
      "source": [
        "import matplotlib.pyplot as plt\n",
        "\n",
        "# Visualize the clustering\n",
        "fig, ax = plt.subplots()\n",
        "scatter = ax.scatter(X[:, 0], X[:, 1], c=labels, cmap=plt.cm.cool, edgecolor='black', s=50)\n",
        "ax.set_title('DBSCAN Clustering', color=purple)\n",
        "ax.set_xlabel('Feature 1', color=blue)\n",
        "ax.set_ylabel('Feature 2', color=blue)\n",
        "ax.grid(True, linestyle='--', alpha=0.5)\n",
        "ax.tick_params(axis='x', colors=blue)\n",
        "ax.tick_params(axis='y', colors=blue)\n",
        "ax.set_facecolor(pink)\n",
        "fig.set_facecolor(background)\n",
        "plt.show()"
      ],
      "id": "7f05b523",
      "execution_count": null,
      "outputs": []
    },
    {
      "cell_type": "markdown",
      "metadata": {},
      "source": [
        "Clustering, especially with the powerful DBSCAN algorithm, opens new avenues for extracting patterns from data. As we've seen, DBSCAN's ability to identify clusters based on density makes it versatile for a wide range of applications. By visualizing the results, we gain a deeper understanding of the data's inherent structure, providing a solid foundation for subsequent analysis and decision-making."
      ],
      "id": "5f2376bc"
    }
  ],
  "metadata": {
    "kernelspec": {
      "name": "python3",
      "language": "python",
      "display_name": "Python 3 (ipykernel)",
      "path": "C:\\Users\\ibhan\\AppData\\Roaming\\Python\\share\\jupyter\\kernels\\python3"
    }
  },
  "nbformat": 4,
  "nbformat_minor": 5
}