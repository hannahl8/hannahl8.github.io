{
  "cells": [
    {
      "cell_type": "markdown",
      "metadata": {},
      "source": [
        "---\n",
        "title: 'Anomaly/Outlier Detection'\n",
        "date: '2023-11-20'\n",
        "categories: ['code']\n",
        "description: 'Unveiling Anomalies with Outlier Detection in Machine Learning'\n",
        "execute: \n",
        "  message: false\n",
        "  warning: false\n",
        "editor_options: \n",
        "  chunk_output_type: console\n",
        "---\n",
        "\n",
        "\n",
        "## Introduction\n",
        "\n",
        "Anomaly detection, a critical aspect of machine learning, involves identifying patterns in data that deviate significantly from the norm. This technique finds applications in various domains, from fraud detection in financial transactions to detecting anomalies in network traffic for cybersecurity.\n",
        "\n",
        "### Challenges of Anomaly Detection\n",
        "\n",
        "While anomaly detection is a powerful tool, it comes with challenges. Real-world data often exhibits diverse distributions, and datasets can be imbalanced, making it tricky to identify rare anomalies accurately. Robust algorithms are essential to overcome these challenges.\n",
        "\n",
        "## Data Visualization\n",
        "\n",
        "I use the following colors in all of my blogs data visualizations\n"
      ],
      "id": "b0421ab8"
    },
    {
      "cell_type": "code",
      "metadata": {},
      "source": [
        "# Define specific colors (same as CSS from quarto vapor theme)\n",
        "background = '#1b133a'\n",
        "pink = '#ea39b8'\n",
        "purple = '#6f42c1'\n",
        "blue = '#32fbe2'"
      ],
      "id": "9cc83120",
      "execution_count": null,
      "outputs": []
    },
    {
      "cell_type": "markdown",
      "metadata": {},
      "source": [
        "### **DBSCAN and Evaluation Metrics for Anomaly Detection**\n",
        "\n",
        "Density-Based Spatial Clustering of Applications with Noise (DBSCAN) emerges as a robust algorithm for anomaly detection. Unlike traditional methods, DBSCAN doesn't assume a specific shape for clusters and can effectively isolate points in low-density regions as outliers.\n",
        "\n",
        "Visualizing anomalies is crucial for interpreting model results. Scatter plots with DBSCAN labels provide an intuitive representation of the identified anomalies in the dataset.\n",
        "\n",
        "Evaluating anomaly detection models poses challenges due to the scarcity of anomalies. Metrics such as precision, recall, and F1 score provide a nuanced understanding of the model's performance.\n"
      ],
      "id": "08c0a851"
    },
    {
      "cell_type": "code",
      "metadata": {},
      "source": [
        "from sklearn.metrics import precision_score, recall_score, f1_score\n",
        "from sklearn.cluster import DBSCAN\n",
        "from sklearn.datasets import make_blobs\n",
        "import numpy as np\n",
        "import matplotlib.pyplot as plt\n",
        "\n",
        "# Function to generate a synthetic dataset with outliers\n",
        "def generate_dataset_with_outliers(seed=42):\n",
        "    np.random.seed(seed)\n",
        "    X, _ = make_blobs(n_samples=300, centers=1, cluster_std=1, random_state=0)\n",
        "    outliers = np.random.uniform(low=-10, high=10, size=(20, 2))\n",
        "    return np.concatenate([X, outliers]), np.concatenate([np.zeros(300), -np.ones(20)])\n",
        "\n",
        "# Step 1: Generate a synthetic dataset with outliers\n",
        "X, y_true = generate_dataset_with_outliers()\n",
        "\n",
        "# Step 2: Train a DBSCAN model for anomaly detection\n",
        "dbscan = DBSCAN(eps=1, min_samples=5)\n",
        "predicted_labels = dbscan.fit_predict(X)\n",
        "\n",
        "# Step 3: Visualize anomalies with DBSCAN labels\n",
        "fig, ax = plt.subplots()\n",
        "scatter = ax.scatter(X[:, 0], X[:, 1], c=predicted_labels, cmap=plt.cm.cool, edgecolor='black', s=50)\n",
        "ax.set_title('Anomaly Detection with DBSCAN', color=purple)\n",
        "ax.set_xlabel('Feature 1', color=blue)\n",
        "ax.set_ylabel('Feature 2', color=blue)\n",
        "ax.grid(True, linestyle='--', alpha=0.5)\n",
        "ax.tick_params(axis='x', colors=blue)\n",
        "ax.tick_params(axis='y', colors=blue)\n",
        "ax.set_facecolor(pink)\n",
        "fig.set_facecolor(background)\n",
        "plt.show()\n",
        "\n",
        "# Step 4: Evaluate the model using precision, recall, and F1 score\n",
        "precision = precision_score(y_true, predicted_labels, pos_label=-1)\n",
        "recall = recall_score(y_true, predicted_labels, pos_label=-1)\n",
        "f1 = f1_score(y_true, predicted_labels, pos_label=-1)\n",
        "\n",
        "print(f\"Precision: {precision:.2f}\")\n",
        "print(f\"Recall: {recall:.2f}\")\n",
        "print(f\"F1 Score: {f1:.2f}\")"
      ],
      "id": "eabc5b4b",
      "execution_count": null,
      "outputs": []
    },
    {
      "cell_type": "markdown",
      "metadata": {},
      "source": [
        "Anomaly detection, powered by algorithms like DBSCAN, plays a vital role in uncovering irregularities in data. The combination of effective visualizations and evaluation metrics enables us to gain insights into the anomalies present, providing a foundation for critical decision-making in various domains."
      ],
      "id": "9db90cc3"
    }
  ],
  "metadata": {
    "kernelspec": {
      "name": "python3",
      "language": "python",
      "display_name": "Python 3 (ipykernel)",
      "path": "C:\\Users\\ibhan\\AppData\\Roaming\\Python\\share\\jupyter\\kernels\\python3"
    }
  },
  "nbformat": 4,
  "nbformat_minor": 5
}