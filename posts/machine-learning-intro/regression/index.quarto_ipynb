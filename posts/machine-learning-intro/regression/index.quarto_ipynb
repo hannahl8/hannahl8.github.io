{
  "cells": [
    {
      "cell_type": "markdown",
      "metadata": {},
      "source": [
        "---\n",
        "title: 'Linear and Nonlinear Regression'\n",
        "date: '2023-10-20'\n",
        "categories: ['Code', 'Academic']\n",
        "description: 'Navigating Trends with Linear and Nonlinear Regression in Machine Learning'\n",
        "execute: \n",
        "  message: false\n",
        "  warning: false\n",
        "editor_options: \n",
        "  chunk_output_type: console\n",
        "---\n",
        "\n",
        "\n",
        "## Introduction\n",
        "\n",
        "Regression, a fundamental concept in machine learning, enables us to model relationships between variables. Whether predicting house prices based on square footage or analyzing the impact of advertising spend on sales, regression plays a pivotal role in understanding and predicting patterns in data.\n",
        "\n",
        "## Data Visualization\n",
        "\n",
        "I use the following colors in all of my blogs data visualizations\n"
      ],
      "id": "fbb93d95"
    },
    {
      "cell_type": "code",
      "metadata": {},
      "source": [
        "# Define specific colors (same as CSS from quarto vapor theme)\n",
        "background = '#1b133a'\n",
        "pink = '#ea39b8'\n",
        "purple = '#6f42c1'\n",
        "blue = '#32fbe2'"
      ],
      "id": "a657eebd",
      "execution_count": null,
      "outputs": []
    },
    {
      "cell_type": "markdown",
      "metadata": {},
      "source": [
        "I will use the following **`plot_scatter`** function to create the data visualizations on this page\n"
      ],
      "id": "08c74b57"
    },
    {
      "cell_type": "code",
      "metadata": {},
      "source": [
        "import matplotlib.pyplot as plt\n",
        "\n",
        "def plot_scatter(X, X_Range, ax_plot, title):\n",
        "  fig, ax = plt.subplots()\n",
        "  scatter = ax.scatter(X, y, color=blue, edgecolor='black', alpha=0.6)\n",
        "  ax.plot(X_Range, ax_plot, color=purple, linewidth=2)\n",
        "  ax.set_title(title, color=purple)\n",
        "  ax.set_xlabel('Feature', color=blue)\n",
        "  ax.set_ylabel('Target', color=blue)\n",
        "  ax.grid(True, linestyle='--', alpha=0.5)\n",
        "  ax.tick_params(axis='x', colors=blue)\n",
        "  ax.tick_params(axis='y', colors=blue)\n",
        "  ax.set_facecolor(pink)\n",
        "  fig.set_facecolor(background)\n",
        "  plt.show()"
      ],
      "id": "9cb71eee",
      "execution_count": null,
      "outputs": []
    },
    {
      "cell_type": "markdown",
      "metadata": {},
      "source": [
        "### **Linear Regression**\n",
        "\n",
        "Linear regression is a straightforward method for modeling linear relationships between variables. In a simple linear regression model, the relationship is expressed as $y=mx+b$ where $y$ is the target variable, $x$ is the feature, $m$ is the slope, and $b$ is the intercept. For multiple features, the equation becomes a linear combination.\n",
        "\n",
        "Linear regression can be implemented effortlessly using Python's scikit-learn library. Let's generate a synthetic dataset and visualize the linear regression line:\n"
      ],
      "id": "82ea0cf0"
    },
    {
      "cell_type": "code",
      "metadata": {},
      "source": [
        "import numpy as np\n",
        "from sklearn.linear_model import LinearRegression\n",
        "\n",
        "# Generate synthetic linear data\n",
        "np.random.seed(42)\n",
        "X = 2 * np.random.rand(100, 1)\n",
        "y = 4 + 3 * X + np.random.randn(100, 1)\n",
        "\n",
        "# Train linear regression model\n",
        "linear_reg = LinearRegression()\n",
        "linear_reg.fit(X, y)\n",
        "\n",
        "# Visualize the linear regression line\n",
        "ax_plot = linear_reg.predict(X)\n",
        "plot_scatter(X, X, ax_plot, 'Linear Regression')"
      ],
      "id": "8437372b",
      "execution_count": null,
      "outputs": []
    },
    {
      "cell_type": "markdown",
      "metadata": {},
      "source": [
        "### **Nonlinear Regression**\n",
        "\n",
        "While linear regression is powerful, not all relationships are linear. Nonlinear regression extends the concept by accommodating more complex patterns. Polynomial regression is a common technique, where the relationship between variables is expressed as a polynomial equation.\n",
        "\n",
        "Let's use Python to implement nonlinear regression through polynomial regression. This time, we'll generate a synthetic dataset with a nonlinear relationship:\n"
      ],
      "id": "c4722a18"
    },
    {
      "cell_type": "code",
      "metadata": {},
      "source": [
        "from sklearn.preprocessing import PolynomialFeatures\n",
        "from sklearn.linear_model import LinearRegression\n",
        "from sklearn.pipeline import make_pipeline\n",
        "\n",
        "# Generate synthetic nonlinear data\n",
        "np.random.seed(42)\n",
        "X = 6 * np.random.rand(100, 1) - 3\n",
        "y = 0.5 * X**2 + X + 2 + np.random.randn(100, 1)\n",
        "\n",
        "# Train nonlinear regression model (polynomial regression)\n",
        "degree = 2\n",
        "poly_reg = make_pipeline(PolynomialFeatures(degree), LinearRegression())\n",
        "poly_reg.fit(X, y)\n",
        "\n",
        "# Visualize the nonlinear regression curve\n",
        "X_range = np.linspace(-3, 3, 100).reshape(-1, 1)\n",
        "ax_plot =  poly_reg.predict(X_range)\n",
        "plot_scatter(X, X_range, ax_plot, 'Nonlinear Regression (Polynomial)')"
      ],
      "id": "8ba1fa6c",
      "execution_count": null,
      "outputs": []
    },
    {
      "cell_type": "markdown",
      "metadata": {},
      "source": [
        "The power of regression becomes evident when we visualize the results. Scatter plots with regression lines or curves help us understand how well the model captures the underlying patterns in the data.\n",
        "\n",
        "In conclusion, linear and nonlinear regression are indispensable tools in the machine learning toolbox. While linear regression is effective for simple relationships, nonlinear regression allows us to model more complex patterns. The ability to implement these techniques with Python makes them accessible and applicable to a wide range of real-world scenarios."
      ],
      "id": "afed4bdf"
    }
  ],
  "metadata": {
    "kernelspec": {
      "name": "python3",
      "language": "python",
      "display_name": "Python 3 (ipykernel)",
      "path": "C:\\Users\\ibhan\\AppData\\Roaming\\Python\\share\\jupyter\\kernels\\python3"
    }
  },
  "nbformat": 4,
  "nbformat_minor": 5
}